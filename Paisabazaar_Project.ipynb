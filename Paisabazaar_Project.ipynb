{
  "nbformat": 4,
  "nbformat_minor": 0,
  "metadata": {
    "colab": {
      "private_outputs": true,
      "provenance": [],
      "collapsed_sections": [
        "vncDsAP0Gaoa",
        "FJNUwmbgGyua",
        "w6K7xa23Elo4",
        "yQaldy8SH6Dl",
        "mDgbUHAGgjLW",
        "O_i_v8NEhb9l",
        "HhfV-JJviCcP",
        "Y3lxredqlCYt",
        "3RnN4peoiCZX",
        "x71ZqKXriCWQ",
        "7hBIi_osiCS2",
        "JlHwYmJAmNHm",
        "35m5QtbWiB9F",
        "PoPl-ycgm1ru",
        "H0kj-8xxnORC",
        "nA9Y7ga8ng1Z",
        "PBTbrJXOngz2",
        "u3PMJOP6ngxN",
        "dauF4eBmngu3",
        "bKJF3rekwFvQ",
        "MSa1f5Uengrz",
        "GF8Ens_Soomf",
        "0wOQAZs5pc--",
        "K5QZ13OEpz2H",
        "lQ7QKXXCp7Bj",
        "448CDAPjqfQr",
        "KSlN3yHqYklG",
        "t6dVpIINYklI",
        "ijmpgYnKYklI",
        "-JiQyfWJYklI",
        "EM7whBJCYoAo",
        "fge-S5ZAYoAp",
        "85gYPyotYoAp",
        "RoGjAbkUYoAp",
        "4Of9eVA-YrdM",
        "iky9q4vBYrdO",
        "F6T5p64dYrdO",
        "y-Ehk30pYrdP",
        "bamQiAODYuh1",
        "QHF8YVU7Yuh3",
        "GwzvFGzlYuh3",
        "qYpmQ266Yuh3",
        "OH-pJp9IphqM",
        "bbFf2-_FphqN",
        "_ouA3fa0phqN",
        "Seke61FWphqN",
        "PIIx-8_IphqN",
        "t27r6nlMphqO",
        "r2jJGEOYphqO",
        "b0JNsNcRphqO",
        "BZR9WyysphqO",
        "jj7wYXLtphqO",
        "eZrbJ2SmphqO",
        "rFu4xreNphqO",
        "YJ55k-q6phqO",
        "gCFgpxoyphqP",
        "OVtJsKN_phqQ",
        "lssrdh5qphqQ",
        "U2RJ9gkRphqQ",
        "1M8mcRywphqQ",
        "tgIPom80phqQ",
        "JMzcOPDDphqR",
        "x-EpHcCOp1ci",
        "X_VqEhTip1ck",
        "8zGJKyg5p1ck",
        "PVzmfK_Ep1ck",
        "n3dbpmDWp1ck",
        "ylSl6qgtp1ck",
        "ZWILFDl5p1ck",
        "M7G43BXep1ck",
        "Ag9LCva-p1cl",
        "E6MkPsBcp1cl",
        "2cELzS2fp1cl",
        "3MPXvC8up1cl",
        "NC_X3p0fY2L0",
        "UV0SzAkaZNRQ",
        "YPEH6qLeZNRQ",
        "q29F0dvdveiT",
        "EXh0U9oCveiU",
        "22aHeOlLveiV",
        "g-ATYxFrGrvw",
        "Yfr_Vlr8HBkt",
        "8yEUt7NnHlrM",
        "tEA2Xm5dHt1r",
        "I79__PHVH19G",
        "Ou-I18pAyIpj",
        "fF3858GYyt-u",
        "4_0_7-oCpUZd",
        "hwyV_J3ipUZe",
        "3yB-zSqbpUZe",
        "dEUvejAfpUZe",
        "Fd15vwWVpUZf",
        "bn_IUdTipZyH",
        "49K5P_iCpZyH",
        "Nff-vKELpZyI",
        "kLW572S8pZyI",
        "dWbDXHzopZyI",
        "yLjJCtPM0KBk",
        "xiyOF9F70UgQ",
        "7wuGOrhz0itI",
        "id1riN9m0vUs",
        "578E2V7j08f6",
        "89xtkJwZ18nB",
        "67NQN5KX2AMe",
        "Iwf50b-R2tYG",
        "GMQiZwjn3iu7",
        "WVIkgGqN3qsr",
        "XkPnILGE3zoT",
        "Hlsf0x5436Go",
        "mT9DMSJo4nBL",
        "c49ITxTc407N",
        "OeJFEK0N496M",
        "9ExmJH0g5HBk",
        "cJNqERVU536h",
        "k5UmGsbsOxih",
        "T0VqWOYE6DLQ",
        "qBMux9mC6MCf",
        "-oLEiFgy-5Pf",
        "C74aWNz2AliB",
        "2DejudWSA-a0",
        "pEMng2IbBLp7",
        "rAdphbQ9Bhjc",
        "TNVZ9zx19K6k",
        "nqoHp30x9hH9",
        "rMDnDkt2B6du",
        "yiiVWRdJDDil",
        "1UUpS68QDMuG",
        "kexQrXU-DjzY",
        "T5CmagL3EC8N",
        "BhH2vgX9EjGr",
        "qjKvONjwE8ra",
        "P1XJ9OREExlT",
        "VFOzZv6IFROw",
        "TIqpNgepFxVj",
        "VfCC591jGiD4",
        "OB4l2ZhMeS1U",
        "ArJBuiUVfxKd",
        "4qY1EAkEfxKe",
        "PiV4Ypx8fxKe",
        "TfvqoZmBfxKf",
        "dJ2tPlVmpsJ0",
        "JWYfwnehpsJ1",
        "-jK_YjpMpsJ2",
        "HAih1iBOpsJ2",
        "zVGeBEFhpsJ2",
        "bmKjuQ-FpsJ3",
        "Fze-IPXLpx6K",
        "7AN1z2sKpx6M",
        "9PIHJqyupx6M",
        "_-qAgymDpx6N",
        "Z-hykwinpx6N",
        "h_CCil-SKHpo",
        "cBFFvTBNJzUa",
        "HvGl1hHyA_VK",
        "EyNgTHvd2WFk",
        "KH5McJBi2d8v",
        "iW_Lq9qf2h6X",
        "-Kee-DAl2viO",
        "gCX9965dhzqZ",
        "gIfDvo9L0UH2"
      ],
      "include_colab_link": true
    },
    "kernelspec": {
      "name": "python3",
      "display_name": "Python 3"
    },
    "language_info": {
      "name": "python"
    }
  },
  "cells": [
    {
      "cell_type": "markdown",
      "metadata": {
        "id": "view-in-github",
        "colab_type": "text"
      },
      "source": [
        "<a href=\"https://colab.research.google.com/github/AaryanPriyadarshi/Paisabazaar-Project/blob/main/Paisabazaar_Project.ipynb\" target=\"_parent\"><img src=\"https://colab.research.google.com/assets/colab-badge.svg\" alt=\"Open In Colab\"/></a>"
      ]
    },
    {
      "cell_type": "markdown",
      "source": [
        "# **Project Name**    - Paisabazaar Project\n",
        "\n"
      ],
      "metadata": {
        "id": "vncDsAP0Gaoa"
      }
    },
    {
      "cell_type": "markdown",
      "source": [
        "##### **Project Type**    - EDA/Regression/Classification/Unsupervised\n",
        "##### **Contribution**    - Aaryan Priyadarshi"
      ],
      "metadata": {
        "id": "beRrZCGUAJYm"
      }
    },
    {
      "cell_type": "markdown",
      "source": [
        "# **Project Summary -**"
      ],
      "metadata": {
        "id": "FJNUwmbgGyua"
      }
    },
    {
      "cell_type": "markdown",
      "source": [
        "The financial sector relies heavily on accurate risk assessment to ensure that loans and credit are issued responsibly. As digital lending platforms like Paisabazaar expand, the challenge of evaluating customer creditworthiness has become increasingly critical. One of the key indicators of financial health is the credit score, which reflects a customer’s ability to manage debt, repay loans on time, and maintain financial stability. This project focuses on performing an Exploratory Data Analysis (EDA) on a large dataset of customers to understand the factors that influence credit scores and identify patterns that can help improve loan approval decisions while reducing the risk of fraud or default.\n",
        "\n",
        "The dataset provided contains approximately 100,000 records with 28 features. These features include demographic attributes such as Age and Occupation, financial details like Annual Income, Monthly Inhand Salary, and Number of Loans, and behavioral indicators such as Credit Utilization Ratio, Outstanding Debt, and Delayed Payments. The target variable is the Credit Score, classified into three categories: Good, Standard, and Poor. To prepare the data for analysis, irrelevant identifier fields such as ID, Name, SSN, and Customer_ID were removed. In addition, placeholder values such as \"No Data\" in the loan type column were treated as missing values. Fortunately, the dataset did not contain significant null values, making preprocessing relatively straightforward.\n",
        "\n",
        "The primary objective of this analysis was to uncover meaningful insights about the relationship between customer attributes and credit scores. Several visual and statistical techniques were applied to achieve this. First, the distribution of credit scores revealed that the majority of customers fell under the Standard category, with more Poor scorers than Good. This highlights a potential financial risk, as a large portion of customers are either average or below-average in terms of credit health.\n",
        "\n",
        "Further analysis of age distribution showed that most customers were between 20 and 45 years old, with relatively fewer older clients. This suggests that credit risk is concentrated in younger to middle-aged groups, who are often in the process of building or stabilizing their financial lives.\n",
        "\n",
        "The relationship between annual income and credit score revealed a clear trend: individuals with higher incomes were more likely to have Good credit scores, while those with lower incomes were disproportionately represented in the Poor category. This finding emphasizes the importance of income stability in maintaining financial credibility.\n",
        "\n",
        "A correlation heatmap provided deeper insights into how numeric features interact. Strong positive correlations were observed among income, salary, and monthly balance, while negative associations emerged between credit score and high credit utilization, outstanding debt, and delayed payments. These indicators are particularly important for lenders, as they directly reflect repayment behavior and financial discipline.\n",
        "\n",
        "Finally, the occupation versus credit score analysis highlighted profession-based trends. Stable and high-paying professions such as Engineers, Lawyers, and Doctors were more likely to have Good credit scores. In contrast, individuals in less stable or irregular-income professions, including Writers, Musicians, and Mechanics, tended toward Standard or Poor scores.\n",
        "\n",
        "In conclusion, this project demonstrates how exploratory data analysis can uncover valuable insights into customer behavior and credit health. The findings suggest that income stability, repayment discipline, and credit utilization are the most significant factors influencing credit scores. By leveraging these insights, Paisabazaar can refine its credit evaluation processes, reduce fraud risks, and provide tailored financial solutions to customers. This project not only highlights the importance of data-driven decision-making in financial services but also lays the groundwork for predictive modeling in future phases."
      ],
      "metadata": {
        "id": "F6v_1wHtG2nS"
      }
    },
    {
      "cell_type": "markdown",
      "source": [
        "# **GitHub Link -**"
      ],
      "metadata": {
        "id": "w6K7xa23Elo4"
      }
    },
    {
      "cell_type": "markdown",
      "source": [
        "https://github.com/AaryanPriyadarshi/Paisabazaar-Project"
      ],
      "metadata": {
        "id": "h1o69JH3Eqqn"
      }
    },
    {
      "cell_type": "markdown",
      "source": [
        "# **Problem Statement**\n"
      ],
      "metadata": {
        "id": "yQaldy8SH6Dl"
      }
    },
    {
      "cell_type": "markdown",
      "source": [
        "**The core problem addressed in this project is to understand the factors that influence credit score categories (Good, Standard, Poor) by performing an Exploratory Data Analysis (EDA) on customer data. By examining patterns in features such as income, salary, occupation, delayed payments, outstanding debt, and credit utilization ratio, this project aims to identify which variables most strongly affect credit health..**"
      ],
      "metadata": {
        "id": "DpeJGUA3kjGy"
      }
    },
    {
      "cell_type": "markdown",
      "source": [
        "# **General Guidelines** : -  "
      ],
      "metadata": {
        "id": "mDgbUHAGgjLW"
      }
    },
    {
      "cell_type": "markdown",
      "source": [
        "1.   Well-structured, formatted, and commented code is required.\n",
        "2.   Exception Handling, Production Grade Code & Deployment Ready Code will be a plus. Those students will be awarded some additional credits.\n",
        "     \n",
        "     The additional credits will have advantages over other students during Star Student selection.\n",
        "       \n",
        "             [ Note: - Deployment Ready Code is defined as, the whole .ipynb notebook should be executable in one go\n",
        "                       without a single error logged. ]\n",
        "\n",
        "3.   Each and every logic should have proper comments.\n",
        "4. You may add as many number of charts you want. Make Sure for each and every chart the following format should be answered.\n",
        "        \n",
        "\n",
        "```\n",
        "# Chart visualization code\n",
        "```\n",
        "            \n",
        "\n",
        "*   Why did you pick the specific chart?\n",
        "*   What is/are the insight(s) found from the chart?\n",
        "* Will the gained insights help creating a positive business impact?\n",
        "Are there any insights that lead to negative growth? Justify with specific reason.\n",
        "\n",
        "5. You have to create at least 15 logical & meaningful charts having important insights.\n",
        "\n",
        "\n",
        "[ Hints : - Do the Vizualization in  a structured way while following \"UBM\" Rule.\n",
        "\n",
        "U - Univariate Analysis,\n",
        "\n",
        "B - Bivariate Analysis (Numerical - Categorical, Numerical - Numerical, Categorical - Categorical)\n",
        "\n",
        "M - Multivariate Analysis\n",
        " ]\n",
        "\n",
        "\n",
        "\n",
        "\n",
        "\n",
        "6. You may add more ml algorithms for model creation. Make sure for each and every algorithm, the following format should be answered.\n",
        "\n",
        "\n",
        "*   Explain the ML Model used and it's performance using Evaluation metric Score Chart.\n",
        "\n",
        "\n",
        "*   Cross- Validation & Hyperparameter Tuning\n",
        "\n",
        "*   Have you seen any improvement? Note down the improvement with updates Evaluation metric Score Chart.\n",
        "\n",
        "*   Explain each evaluation metric's indication towards business and the business impact pf the ML model used.\n",
        "\n",
        "\n",
        "\n",
        "\n",
        "\n",
        "\n",
        "\n",
        "\n",
        "\n",
        "\n",
        "\n",
        "\n",
        "\n",
        "\n",
        "\n",
        "\n",
        "\n",
        "\n"
      ],
      "metadata": {
        "id": "ZrxVaUj-hHfC"
      }
    },
    {
      "cell_type": "markdown",
      "source": [
        "# ***Let's Begin !***"
      ],
      "metadata": {
        "id": "O_i_v8NEhb9l"
      }
    },
    {
      "cell_type": "markdown",
      "source": [
        "## ***Know Your Data***"
      ],
      "metadata": {
        "id": "HhfV-JJviCcP"
      }
    },
    {
      "cell_type": "markdown",
      "source": [
        "### Import Libraries"
      ],
      "metadata": {
        "id": "Y3lxredqlCYt"
      }
    },
    {
      "cell_type": "code",
      "source": [
        "# Import Libraries\n",
        "\n",
        "import pandas as pd\n",
        "import numpy as np\n",
        "import matplotlib.pyplot as plt\n",
        "import seaborn as sns\n",
        "\n",
        "from google.colab import drive\n",
        "drive.mount('/content/drive')\n",
        "from sklearn.preprocessing import LabelEncoder\n",
        "from sklearn.preprocessing import StandardScaler\n",
        "from sklearn.model_selection import train_test_split\n",
        "from sklearn.ensemble import RandomForestClassifier\n",
        "from sklearn.metrics import classification_report, confusion_matrix, accuracy_score\n",
        "from sklearn.ensemble import IsolationForest\n",
        "from sklearn.metrics import precision_score, recall_score, f1_score\n",
        "from sklearn.feature_selection import mutual_info_classif\n",
        "from xgboost import XGBClassifier\n",
        "from scipy import stats\n",
        "import warnings\n",
        "warnings.filterwarnings('ignore')"
      ],
      "metadata": {
        "id": "M8Vqi-pPk-HR"
      },
      "execution_count": null,
      "outputs": []
    },
    {
      "cell_type": "markdown",
      "source": [
        "### Dataset Loading"
      ],
      "metadata": {
        "id": "3RnN4peoiCZX"
      }
    },
    {
      "cell_type": "code",
      "source": [
        "# Load Dataset\n",
        "\n",
        "df = pd.read_csv('/content/drive/MyDrive/Paisabazaar/dataset-2.csv')\n"
      ],
      "metadata": {
        "id": "4CkvbW_SlZ_R"
      },
      "execution_count": null,
      "outputs": []
    },
    {
      "cell_type": "markdown",
      "source": [
        "### Dataset First View"
      ],
      "metadata": {
        "id": "x71ZqKXriCWQ"
      }
    },
    {
      "cell_type": "code",
      "source": [
        "# Basic information and missing Values\n",
        "df.shape\n",
        "\n",
        "df.info()\n",
        "print(\"\\nMissing Values:\")\n",
        "print(df.isnull().sum())\n"
      ],
      "metadata": {
        "id": "LWNFOSvLl09H"
      },
      "execution_count": null,
      "outputs": []
    },
    {
      "cell_type": "markdown",
      "source": [
        "The dataset contains customer demographic and financial details such as:\n",
        "- **Age, Occupation, Annual Income, Monthly Salary**  \n",
        "- **Outstanding Debt, Number of Delayed Payments, Credit Utilization Ratio**  \n",
        "- **Type of Loan, Number of Loans, Monthly Balance**  \n",
        "- **Credit Score** (target variable: Good, Standard, Poor)  "
      ],
      "metadata": {
        "id": "M6VcCNCF5mu7"
      }
    },
    {
      "cell_type": "markdown",
      "source": [
        "###Dataset Rows & Columns count\n",
        "\n"
      ],
      "metadata": {
        "id": "h1EGLwPg557Z"
      }
    },
    {
      "cell_type": "code",
      "source": [
        "# Dataset Rows & Columns count\n",
        "\n",
        "df.describe()"
      ],
      "metadata": {
        "id": "Kllu7SJgmLij"
      },
      "execution_count": null,
      "outputs": []
    },
    {
      "cell_type": "markdown",
      "source": [
        "Data Dictionary\n",
        "\n",
        "| Column Name              | Description |\n",
        "|---------------------------|-------------|\n",
        "| Age                      | Age of the customer |\n",
        "| Occupation               | Customer's profession |\n",
        "| Annual_Income            | Total annual income |\n",
        "| Monthly_Inhand_Salary    | Average monthly take-home salary |\n",
        "| Num_Bank_Accounts        | Number of active bank accounts |\n",
        "| Num_Credit_Card          | Number of credit cards held |\n",
        "| Interest_Rate            | Average interest rate on loans |\n",
        "| Num_of_Loan              | Number of loans taken |\n",
        "| Type_of_Loan             | Types of loans held (Home, Auto, etc.) |\n",
        "| Delay_from_due_date      | Average payment delay in days |\n",
        "| Num_of_Delayed_Payment   | Number of delayed payments |\n",
        "| Outstanding_Debt         | Total outstanding debt |\n",
        "| Credit_Utilization_Ratio | Ratio of used credit to available credit |\n",
        "| Monthly_Balance          | Average monthly account balance |\n",
        "| Credit_Score             | Target variable: Good / Standard / Poor |"
      ],
      "metadata": {
        "id": "v1756VI_6olT"
      }
    },
    {
      "cell_type": "markdown",
      "source": [
        "#### Missing Values/Null Values"
      ],
      "metadata": {
        "id": "PoPl-ycgm1ru"
      }
    },
    {
      "cell_type": "code",
      "source": [
        "# Missing Values/Null Values Count\n",
        "# Dropping irrelevant data\n",
        "df.isnull().sum()\n",
        "df = df.drop(columns=[\"ID\",\"SSN\",\"Name\",\"Customer_ID\"], errors=\"ignore\")\n",
        "df[\"Type_of_Loan\"] = df[\"Type_of_Loan\"].replace(\"No Data\", pd.NA)\n",
        "df.fillna(method=\"ffill\", inplace=True)\n",
        "\n",
        "\n",
        "# Feature Engineering\n",
        "# Adding 'Quarter' derived from 'Month' to capture seasonal spending or behavioural trends.\n",
        "\n",
        "if 'Month' in df.columns:\n",
        "  df['Quarter'] = df['Month'].map({1:'Q1',2:'Q1',3:'Q1',4:'Q2',5:'Q2',6:'Q2',7:'Q3',8:'Q3',9:'Q3',10:'Q4',11:'Q4',12:'Q4'})"
      ],
      "metadata": {
        "id": "GgHWkxvamxVg"
      },
      "execution_count": null,
      "outputs": []
    },
    {
      "cell_type": "markdown",
      "source": [
        "Handling Missing / Irrelevant Data\n",
        "\n",
        "Steps taken:\n",
        "- Dropped identifier columns such as **ID, SSN, Customer_ID, and Name**, as they do not add predictive value.  \n",
        "- Replaced placeholder entries like \"No Data\" in \"Type_of_Loan\" with NaN values.  \n",
        "- Checked for missing values in all columns using `.isnull().sum()`.  \n",
        "- Imputed or dropped missing values where necessary to ensure dataset consistency."
      ],
      "metadata": {
        "id": "0yWU27BH76CF"
      }
    },
    {
      "cell_type": "markdown",
      "source": [
        "## ***Data Vizualization***"
      ],
      "metadata": {
        "id": "Rdlrm8oZcKDS"
      }
    },
    {
      "cell_type": "markdown",
      "source": [
        "###Credit Score Distribution\n",
        "\n",
        "-Most customers fall in the Standard category.\n",
        "\n",
        "-Poor credit scores are higher than Good scores, meaning many customers are financially at risk."
      ],
      "metadata": {
        "id": "OzPh8PqpcMUR"
      }
    },
    {
      "cell_type": "code",
      "source": [
        "sns.countplot(data=df, x=\"Credit_Score\", palette=\"Set2\")\n",
        "plt.title(\"Distribution of Credit Score\")\n",
        "plt.show()"
      ],
      "metadata": {
        "id": "Nk7RwAZQcsZa"
      },
      "execution_count": null,
      "outputs": []
    },
    {
      "cell_type": "markdown",
      "source": [
        "###Age Distribution\n",
        "\n",
        "-Customers are mostly between 20–45 years old.\n",
        "\n",
        "-Very few older customers, meaning credit risks are concentrated among younger to middle-aged individuals."
      ],
      "metadata": {
        "id": "t11XMVlhcvjn"
      }
    },
    {
      "cell_type": "code",
      "source": [
        "sns.histplot(df[\"Age\"], bins=30, kde=True, color=\"skyblue\")\n",
        "plt.title(\"Distribution of Age\")\n",
        "plt.show()"
      ],
      "metadata": {
        "id": "yvHjHdFZc2Do"
      },
      "execution_count": null,
      "outputs": []
    },
    {
      "cell_type": "markdown",
      "source": [
        "###Annual Income by Credit Score\n",
        "\n",
        "-Good credit scorers generally earn higher annual incomes.\n",
        "\n",
        "-Poor scorers have noticeably lower income, with many outliers.\n",
        "\n",
        "-Suggests income is positively related to credit health"
      ],
      "metadata": {
        "id": "gDvIV94Zc6Fz"
      }
    },
    {
      "cell_type": "code",
      "source": [
        "sns.boxplot(data=df, x=\"Credit_Score\", y=\"Annual_Income\", palette=\"Set3\")\n",
        "plt.title(\"Annual Income by Credit Score\")\n",
        "plt.show()\n"
      ],
      "metadata": {
        "id": "UOXX--KEc_Vd"
      },
      "execution_count": null,
      "outputs": []
    },
    {
      "cell_type": "markdown",
      "source": [
        "###Correlation Heatmap\n",
        "\n",
        "-Annual Income, Monthly Inhand Salary, and Monthly Balance are strongly correlated.\n",
        "\n",
        "-Credit Utilization Ratio is negatively correlated with credit health → higher utilization increases risk.\n",
        "\n",
        "-Outstanding Debt and Num of Delayed Payments also align with poorer scores."
      ],
      "metadata": {
        "id": "kI3hc3nNdC8_"
      }
    },
    {
      "cell_type": "code",
      "source": [
        "corr = df.select_dtypes(include=[\"float64\",\"int64\"]).corr()\n",
        "plt.figure(figsize=(12,8))\n",
        "sns.heatmap(corr, cmap=\"coolwarm\", annot=False)\n",
        "plt.title(\"Correlation Heatmap of Numeric Features\")\n",
        "plt.show()\n"
      ],
      "metadata": {
        "id": "y_-k6f2udMkb"
      },
      "execution_count": null,
      "outputs": []
    },
    {
      "cell_type": "markdown",
      "source": [
        "###Occupation vs Credit Score\n",
        "\n",
        "-Some professions (Engineer, Lawyer, Doctor) show better credit scores.\n",
        "\n",
        "-Jobs with irregular income (Writer, Mechanic, Musician) lean toward Poor or Standard scores."
      ],
      "metadata": {
        "id": "BZJPRXixdOqL"
      }
    },
    {
      "cell_type": "code",
      "source": [
        "plt.figure(figsize=(12,6))\n",
        "sns.countplot(data=df, x=\"Occupation\", hue=\"Credit_Score\")\n",
        "plt.title(\"Occupation vs Credit Score\")\n",
        "plt.xticks(rotation=45)\n",
        "plt.show()\n"
      ],
      "metadata": {
        "id": "z83ee3cqdWrV"
      },
      "execution_count": null,
      "outputs": []
    },
    {
      "cell_type": "markdown",
      "source": [
        "### Final Insight:\n",
        "Accurate classification of credit scores depends strongly on **income stability, repayment history, and credit utilization patterns**.  \n",
        "This analysis can help Paisabazaar improve its **loan approval process**, reduce defaults, and give **personalized financial recommendations**."
      ],
      "metadata": {
        "id": "OfMGmXXKdh7g"
      }
    },
    {
      "cell_type": "markdown",
      "source": [
        "## ***Hypothesis Testing***"
      ],
      "metadata": {
        "id": "g-ATYxFrGrvw"
      }
    },
    {
      "cell_type": "markdown",
      "source": [
        "H₀ (Null): Mean annual income is the same across Good, Standard, and Poor credit scores.\n",
        "\n",
        "H₁ (Alternative): At least one credit score group has a different mean annual income."
      ],
      "metadata": {
        "id": "IyjqYrIh9jPT"
      }
    },
    {
      "cell_type": "code",
      "source": [
        "# Group incomes by Credit Score\n",
        "income_good = df[df[\"Credit_Score\"] == \"Good\"][\"Annual_Income\"].dropna()\n",
        "income_standard = df[df[\"Credit_Score\"] == \"Standard\"][\"Annual_Income\"].dropna()\n",
        "income_poor = df[df[\"Credit_Score\"] == \"Poor\"][\"Annual_Income\"].dropna()\n",
        "\n",
        "# Perform one-way ANOVA\n",
        "f_stat, p_value = stats.f_oneway(income_good, income_standard, income_poor)\n",
        "\n",
        "print(\"F-statistic:\", f_stat)\n",
        "print(\"p-value:\", p_value)\n",
        "\n",
        "# Interpretation\n",
        "alpha = 0.05\n",
        "if p_value <= alpha:\n",
        "    print(\"Reject Null Hypothesis: Income differs significantly across credit score groups.\")\n",
        "else:\n",
        "    print(\"Fail to Reject Null Hypothesis: No significant difference in income across groups.\")"
      ],
      "metadata": {
        "id": "im0irgvW5WVp"
      },
      "execution_count": null,
      "outputs": []
    },
    {
      "cell_type": "markdown",
      "source": [
        "#### Credit Score Distribution"
      ],
      "metadata": {
        "id": "0wOQAZs5pc--"
      }
    },
    {
      "cell_type": "markdown",
      "source": [
        "Credit Score Distribution\n",
        "\n",
        "*   Most customers fall in the Standard category.\n",
        "\n",
        "*   Poor credit scores are higher than Good scores, meaning many customers are financially at risk."
      ],
      "metadata": {
        "id": "RIJMspB_-Hli"
      }
    },
    {
      "cell_type": "code",
      "source": [
        "sns.countplot(data=df, x=\"Credit_Score\", palette=\"Set2\")\n",
        "plt.title(\"Distribution of Credit Score\")\n",
        "plt.show()"
      ],
      "metadata": {
        "id": "7v_ESjsspbW7"
      },
      "execution_count": null,
      "outputs": []
    },
    {
      "cell_type": "markdown",
      "source": [
        "#### Age Distribution"
      ],
      "metadata": {
        "id": "KSlN3yHqYklG"
      }
    },
    {
      "cell_type": "markdown",
      "source": [
        "Age Distribution\n",
        "\n",
        "*   Customers are mostly between 20–45 years old.\n",
        "*  Very few older customers, meaning credit risks are concentrated among younger to middle-aged individuals"
      ],
      "metadata": {
        "id": "HrXAqYZT-bbQ"
      }
    },
    {
      "cell_type": "code",
      "source": [
        "sns.histplot(df[\"Age\"], bins=30, kde=True, color=\"skyblue\")\n",
        "plt.title(\"Distribution of Age\")\n",
        "plt.show()"
      ],
      "metadata": {
        "id": "R4YgtaqtYklH"
      },
      "execution_count": null,
      "outputs": []
    },
    {
      "cell_type": "markdown",
      "source": [
        "#### Annual Income by Credit Score"
      ],
      "metadata": {
        "id": "EM7whBJCYoAo"
      }
    },
    {
      "cell_type": "markdown",
      "source": [
        "Annual Income by Credit Score\n",
        "\n",
        "*   Good credit scorers generally earn higher annual incomes.\n",
        "*   Poor scorers have noticeably lower income, with many outliers.\n",
        "*   Suggests income is positively related to credit health."
      ],
      "metadata": {
        "id": "Z1rCsO5c-0B3"
      }
    },
    {
      "cell_type": "code",
      "source": [
        "sns.boxplot(data=df, x=\"Credit_Score\", y=\"Annual_Income\", palette=\"Set3\")\n",
        "plt.title(\"Annual Income by Credit Score\")\n",
        "plt.show()"
      ],
      "metadata": {
        "id": "t6GMdE67YoAp"
      },
      "execution_count": null,
      "outputs": []
    },
    {
      "cell_type": "markdown",
      "source": [
        "#### Correlation Heatmap"
      ],
      "metadata": {
        "id": "4Of9eVA-YrdM"
      }
    },
    {
      "cell_type": "markdown",
      "source": [
        "Correlation Heatmap\n",
        "\n",
        "*   Annual Income, Monthly Inhand Salary, and Monthly Balance are strongly correlated.\n",
        "*   Credit Utilization Ratio is negatively correlated with credit health → higher utilization increases risk.\n",
        "*   Outstanding Debt and Num of Delayed Payments also align with poorer scores."
      ],
      "metadata": {
        "id": "sBEOF8v5_N6_"
      }
    },
    {
      "cell_type": "code",
      "source": [
        "corr = df.select_dtypes(include=[\"float64\",\"int64\"]).corr()\n",
        "plt.figure(figsize=(12,8))\n",
        "sns.heatmap(corr, cmap=\"coolwarm\", annot=False)\n",
        "plt.title(\"Correlation Heatmap of Numeric Features\")\n",
        "plt.show()"
      ],
      "metadata": {
        "id": "irlUoxc8YrdO"
      },
      "execution_count": null,
      "outputs": []
    },
    {
      "cell_type": "markdown",
      "source": [
        "#### Occupation vs Credit Score"
      ],
      "metadata": {
        "id": "bamQiAODYuh1"
      }
    },
    {
      "cell_type": "markdown",
      "source": [
        "Occupation vs Credit Score\n",
        "\n",
        "*  Some professions (Engineer, Lawyer, Doctor) show better credit scores.\n",
        "*   Jobs with irregular income (Writer, Mechanic, Musician) lean toward Poor or Standard scores."
      ],
      "metadata": {
        "id": "dCtO690u_0RU"
      }
    },
    {
      "cell_type": "code",
      "source": [
        "plt.figure(figsize=(12,6))\n",
        "sns.countplot(data=df, x=\"Occupation\", hue=\"Credit_Score\")\n",
        "plt.title(\"Occupation vs Credit Score\")\n",
        "plt.xticks(rotation=45)\n",
        "plt.show()"
      ],
      "metadata": {
        "id": "TIJwrbroYuh3"
      },
      "execution_count": null,
      "outputs": []
    },
    {
      "cell_type": "markdown",
      "source": [
        "## ***Feature Engineering & Data Pre-processing***"
      ],
      "metadata": {
        "id": "yLjJCtPM0KBk"
      }
    },
    {
      "cell_type": "code",
      "source": [
        "from re import X\n",
        "\n",
        "# Reloading the dataset\n",
        "df = pd.read_csv('/content/drive/MyDrive/Paisabazaar/dataset-2.csv')\n",
        "\n",
        "\n",
        "# Encode categorical variables\n",
        "# Label Encoding coverts categorical data into numerical format for ML model compatibility\n",
        "cat_cols = ['Occupation', 'Credit_Mix', 'Payment_of_Min_Amount', 'Payment_Behaviour']\n",
        "le = LabelEncoder()\n",
        "for col in cat_cols:\n",
        "    # Check if the column exists in the DataFrame\n",
        "    if col in df.columns:\n",
        "        df[col] = le.fit_transform(df[col])\n",
        "    else:\n",
        "        print(f\"Warning: Column '{col}' not found in DataFrame.\")\n",
        "\n",
        "# Encode 'Quarter' if it exists (Added in feature engineering)\n",
        "if 'Quarter' in df.columns:\n",
        "  df = le.fit_transform(df['Quarter'])\n",
        "\n",
        "# Dropping irrelevant data and Setting 'Credit Score' as the target variable\n",
        "X = df.drop(['ID', 'Customer_ID', 'Name', 'SSN' ,'Credit_Score', 'Type_of_Loan'], axis=1)\n",
        "y = le.fit_transform(df['Credit_Score'])\n",
        "\n",
        "\n",
        "# Split the data into training and testing sets\n",
        "X_train, X_test, y_train, y_test = train_test_split(X, y, test_size=0.2, random_state=42)\n",
        "\n",
        "# Feature Scaling\n",
        "# StandardScaler helps model like XGboost and RandomForest perform better with scaled data\n",
        "\n",
        "scaler = StandardScaler()\n",
        "X_train_scaled = scaler.fit_transform(X_train)\n",
        "X_test_scaled = scaler.transform(X_test)"
      ],
      "metadata": {
        "id": "vpAWIWbUA7OH"
      },
      "execution_count": null,
      "outputs": []
    },
    {
      "cell_type": "markdown",
      "source": [
        "In this step, we get the dataset ready for modeling:  \n",
        "\n",
        "- Reload the dataset into a DataFrame.  \n",
        "- Convert text columns (`Occupation`, `Credit_Mix`, etc.) into numbers using Label Encoding.  \n",
        "- Drop irrelevant columns (`ID`, `Customer_ID`, `Name`, `SSN`, etc.) that don’t help in prediction.  \n",
        "- Set **Credit Score** as our target variable (`y`).  \n",
        "- Split the data into training (80%) and testing (20%) sets.  \n",
        "- Scale the features using **StandardScaler** so that models can train more effectively.  \n"
      ],
      "metadata": {
        "id": "tkyvaSqUTIzM"
      }
    },
    {
      "cell_type": "markdown",
      "source": [
        "## ***ML Model Implementation***"
      ],
      "metadata": {
        "id": "VfCC591jGiD4"
      }
    },
    {
      "cell_type": "code",
      "source": [
        "# Random Forest Classifier\n",
        "rf_clf = RandomForestClassifier(n_estimators=200, random_state=42)\n",
        "rf_clf.fit(X_train_scaled, y_train)\n",
        "y_pred_rf = rf_clf.predict(X_test_scaled)\n",
        "\n",
        "print(\"Random Forest Results\")\n",
        "print(\"Accuracy:\", accuracy_score(y_test, y_pred_rf))\n",
        "print(\"\\nClassification Report:\\n\", classification_report(y_test, y_pred_rf))\n",
        "\n",
        "# Confusion Matrix Visualization\n",
        "plt.figure(figsize=(6,4))\n",
        "sns.heatmap(confusion_matrix(y_test, y_pred_rf), annot=True, fmt='d', cmap='Blues')\n",
        "plt.title(\"Random Forest Confusion Matrix\")\n",
        "plt.xlabel(\"Predicted\")\n",
        "plt.ylabel(\"Actual\")\n",
        "plt.show()\n",
        "\n",
        "\n",
        "# XGBoost Classifier\n",
        "xgb_clf = XGBClassifier(n_estimators=300, learning_rate=0.1, random_state=42,\n",
        "                        use_label_encoder=False, eval_metric='mlogloss')\n",
        "xgb_clf.fit(X_train_scaled, y_train)\n",
        "y_pred_xgb = xgb_clf.predict(X_test_scaled)\n",
        "\n",
        "print(\"\\n XGBoost Results\")\n",
        "print(\"Accuracy:\", accuracy_score(y_test, y_pred_xgb))\n",
        "print(\"\\nClassification Report:\\n\", classification_report(y_test, y_pred_xgb))\n",
        "\n",
        "# Confusion Matrix Visualization\n",
        "plt.figure(figsize=(6,4))\n",
        "sns.heatmap(confusion_matrix(y_test, y_pred_xgb), annot=True, fmt='d', cmap='Greens')\n",
        "plt.title(\"XGBoost Confusion Matrix\")\n",
        "plt.xlabel(\"Predicted\")\n",
        "plt.ylabel(\"Actual\")\n",
        "plt.show()\n",
        "\n",
        "# Compare Evaluation Metrics\n",
        "\n",
        "# Collect metrics\n",
        "results = {\n",
        "    \"Model\": [\"Random Forest\", \"XGBoost\"],\n",
        "    \"Accuracy\": [\n",
        "        accuracy_score(y_test, y_pred_rf),\n",
        "        accuracy_score(y_test, y_pred_xgb)\n",
        "    ],\n",
        "    \"Precision\": [\n",
        "        precision_score(y_test, y_pred_rf, average=\"weighted\"),\n",
        "        precision_score(y_test, y_pred_xgb, average=\"weighted\")\n",
        "    ],\n",
        "    \"Recall\": [\n",
        "        recall_score(y_test, y_pred_rf, average=\"weighted\"),\n",
        "        recall_score(y_test, y_pred_xgb, average=\"weighted\")\n",
        "    ],\n",
        "    \"F1-Score\": [\n",
        "        f1_score(y_test, y_pred_rf, average=\"weighted\"),\n",
        "        f1_score(y_test, y_pred_xgb, average=\"weighted\")\n",
        "    ]\n",
        "}\n",
        "\n",
        "# Convert to DataFrame\n",
        "metrics_df = pd.DataFrame(results)\n",
        "display(metrics_df)\n",
        "\n",
        "# Plot comparison\n",
        "metrics_df.set_index(\"Model\")[[\"Accuracy\",\"Precision\",\"Recall\",\"F1-Score\"]].plot(\n",
        "    kind=\"bar\", figsize=(8,6), colormap=\"Set2\", rot=0\n",
        ")\n",
        "plt.title(\"Model Performance Comparison\")\n",
        "plt.ylabel(\"Score\")\n",
        "plt.ylim(0,1)\n",
        "plt.legend(loc=\"lower right\")\n",
        "plt.show()\n",
        "\n",
        "# Feature Importance\n",
        "\n",
        "# Random Forest Feature Importance\n",
        "importances_rf = rf_clf.feature_importances_\n",
        "features = X.columns\n",
        "\n",
        "plt.figure(figsize=(10,5))\n",
        "sns.barplot(x=importances_rf, y=features, palette=\"Blues_r\")\n",
        "plt.title(\"Random Forest - Feature Importance\")\n",
        "plt.xlabel(\"Importance\")\n",
        "plt.ylabel(\"Features\")\n",
        "plt.show()\n",
        "\n",
        "# XGBoost Feature Importance\n",
        "importances_xgb = xgb_clf.feature_importances_\n",
        "\n",
        "plt.figure(figsize=(10,5))\n",
        "sns.barplot(x=importances_xgb, y=features, palette=\"Greens_r\")\n",
        "plt.title(\"XGBoost - Feature Importance\")\n",
        "plt.xlabel(\"Importance\")\n",
        "plt.ylabel(\"Features\")\n",
        "plt.show()\n",
        "\n",
        "\n"
      ],
      "metadata": {
        "id": "nVWTE5auThIW"
      },
      "execution_count": null,
      "outputs": []
    },
    {
      "cell_type": "markdown",
      "source": [
        "###  ML Model Implementation  \n",
        "\n",
        "Implemented two machine learning models to predict **Credit Score**:  \n",
        "\n",
        "1. **Random Forest Classifier**  \n",
        "   - An ensemble method that builds multiple decision trees and combines their predictions.  \n",
        "   - Helps reduce overfitting and improves accuracy.  \n",
        "\n",
        "2. **XGBoost Classifier**  \n",
        "   - A boosting algorithm that builds models sequentially, correcting errors step by step.  \n",
        "   - Known for strong performance in classification problems.  \n",
        "\n",
        " For each model, I:  \n",
        "- Trained on the **training set (80%)**.  \n",
        "- Tested on the **test set (20%)**.  \n",
        "- Evaluated with **Accuracy, Classification Report, and Confusion Matrix**.  \n",
        "- Used **heatmaps** to visualize classification performance.  \n"
      ],
      "metadata": {
        "id": "rJT86SXzYXZ8"
      }
    },
    {
      "cell_type": "markdown",
      "source": [
        "### Model Evaluation Metrics Comparison  \n",
        "\n",
        "To evaluate our models, I compared **Accuracy, Precision, Recall, and F1-Score**:  \n",
        "\n",
        "- **Accuracy**: Percentage of correct predictions.  \n",
        "- **Precision**: How many predicted positives were actually correct.  \n",
        "- **Recall**: How many actual positives were correctly identified.  \n",
        "- **F1-Score**: Balance between Precision and Recall.  \n",
        "\n",
        " The comparison table and bar chart clearly show which model performs better overall.  \n"
      ],
      "metadata": {
        "id": "ZlejV4CrYy--"
      }
    },
    {
      "cell_type": "markdown",
      "source": [
        "### Feature Importance\n",
        "\n",
        "I also checked which features matter the most for predicting credit scores.  \n",
        "\n",
        "- Random Forest and XGBoost both rank features by importance.  \n",
        "- Features like income, payment delays, and credit inquiries turn out to be strong predictors.  \n"
      ],
      "metadata": {
        "id": "ihd1Ly2QYgOO"
      }
    },
    {
      "cell_type": "markdown",
      "source": [
        "# **Conclusion**"
      ],
      "metadata": {
        "id": "gCX9965dhzqZ"
      }
    },
    {
      "cell_type": "markdown",
      "source": [
        "The project explores customer financial data through EDA and uncoveres valuable insights:\n",
        "\n",
        "- **Income stability, repayment history, and credit utilization** are the most influential factors for credit scores.  \n",
        "- The majority of customers are of **Standard** credit risk, requiring closer evaluation before loan approvals.  \n",
        "- Occupation and income significantly affect credit health, with stable professions having stronger financial discipline.  \n",
        "- Correlation analysis shows strong relationships among income, salary, and balance, while utilization and delays negatively impact scores.  \n",
        "\n",
        "**Business Value:**  \n",
        "These findings can help Paisabazaar refine loan approval processes, reduce fraud risk, and deliver tailored financial recommendations to customers.  \n"
      ],
      "metadata": {
        "id": "Fjb1IsQkh3yE"
      }
    }
  ]
}